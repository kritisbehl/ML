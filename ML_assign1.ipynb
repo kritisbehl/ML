{
  "cells": [
    {
      "cell_type": "code",
      "execution_count": null,
      "metadata": {
        "colab": {
          "base_uri": "https://localhost:8080/"
        },
        "id": "y1PyK9mluz4v",
        "outputId": "91586967-8fb3-4d21-8193-cddf606c368b"
      },
      "outputs": [
        {
          "name": "stdout",
          "output_type": "stream",
          "text": [
            "[5 4 6 3 2 1]\n"
          ]
        }
      ],
      "source": [
        "#Q1\n",
        "import numpy as np\n",
        "arr = np.array([1, 2, 3, 6, 4, 5])\n",
        "reversed_arr=np.flip(arr)\n",
        "print(reversed_arr)"
      ]
    },
    {
      "cell_type": "code",
      "execution_count": null,
      "metadata": {
        "id": "xKjEmV3IwS5m"
      },
      "outputs": [],
      "source": []
    },
    {
      "cell_type": "code",
      "execution_count": null,
      "metadata": {
        "colab": {
          "base_uri": "https://localhost:8080/"
        },
        "id": "mrl0LR1bwYw5",
        "outputId": "f359a9d5-e200-41a0-8d95-80be82aaa673"
      },
      "outputs": [
        {
          "name": "stdout",
          "output_type": "stream",
          "text": [
            "[1 2 3 2 4 5 1 2 3]\n",
            "[1 2 3 2 4 5 1 2 3]\n"
          ]
        }
      ],
      "source": [
        "#Q2\n",
        "#method-1\n",
        "import numpy as np\n",
        "array1=np.array([[1, 2, 3], [2, 4, 5], [1, 2, 3]])\n",
        "flattened_array=array1.flatten()\n",
        "print(flattened_array)\n",
        "#method-2\n",
        "import numpy as np\n",
        "array1=np.array([[1, 2, 3], [2, 4, 5], [1, 2, 3]])\n",
        "flattened_array=array1.ravel()\n",
        "print(flattened_array)\n",
        "#flatten:changes made to flattened array will not be copied to original arr\n",
        "#ravel:changes made to raveled array will be copied to original array"
      ]
    },
    {
      "cell_type": "code",
      "execution_count": null,
      "metadata": {
        "colab": {
          "base_uri": "https://localhost:8080/"
        },
        "id": "7R8NCL3KyFs3",
        "outputId": "0f5f10ee-864e-4f0e-9677-52e4a6c5b952"
      },
      "outputs": [
        {
          "name": "stdout",
          "output_type": "stream",
          "text": [
            "Element wise comparison:\n",
            " [[ True  True]\n",
            " [ True  True]]\n",
            "overall array comparison:\n",
            " True\n"
          ]
        }
      ],
      "source": [
        "#Q3\n",
        "import numpy as np\n",
        "arr1 = np.array([[1, 2], [3, 4]])\n",
        "arr2 = np.array([[1, 2], [3, 4]])\n",
        "element_wise_comparison = arr1 == arr2\n",
        "print(\"Element wise comparison:\\n\",element_wise_comparison)\n",
        "overall_comparison = np.array_equal(arr1, arr2)\n",
        "print(\"overall array comparison:\\n\",overall_comparison)\n"
      ]
    },
    {
      "cell_type": "code",
      "execution_count": null,
      "metadata": {
        "colab": {
          "base_uri": "https://localhost:8080/"
        },
        "id": "12GTIRyf0BCk",
        "outputId": "fa29c9e4-5fbd-47ce-e8e6-ff66e391d2b5"
      },
      "outputs": [
        {
          "name": "stdout",
          "output_type": "stream",
          "text": [
            "Most frequent occuring values: 1\n",
            "Indices: (array([0, 5, 7, 8, 9]),)\n",
            "Array y: Most frequent value = 1, Indices = [0, 1, 2]\n",
            "Array y: Most frequent value = 3, Indices = [4, 8, 9]\n"
          ]
        }
      ],
      "source": [
        "import numpy as np\n",
        "x = np.array([1,2,3,4,5,1,2,1,1,1])\n",
        "most_frequent_val=np.bincount(x).argmax()\n",
        "most_frequent_val_indices=np.where(x==most_frequent_val)\n",
        "print(\"Most frequent occuring values:\",most_frequent_val)\n",
        "print(\"Indices:\",most_frequent_val_indices)\n",
        "y = np.array([1, 1, 1, 2, 3, 4, 2, 4, 3, 3 ])\n",
        "counts_y = np.bincount(y)\n",
        "most_freq_y = np.where(counts_y == counts_y.max())[0]\n",
        "\n",
        "for value in most_freq_y:\n",
        "    indices_y = np.where(y == value)[0]\n",
        "    print(f\"Array y: Most frequent value = {value}, Indices = {indices_y.tolist()}\")"
      ]
    },
    {
      "cell_type": "code",
      "execution_count": null,
      "metadata": {
        "colab": {
          "base_uri": "https://localhost:8080/"
        },
        "id": "S2FDnvC16ySs",
        "outputId": "69f8b209-306d-471c-a8e7-852a8b15eaf7"
      },
      "outputs": [
        {
          "name": "stdout",
          "output_type": "stream",
          "text": [
            "total sum: 45\n",
            "sum of row elemnts:\n",
            " [[14]\n",
            " [16]\n",
            " [15]]\n",
            "sum of column elemnts:\n",
            " [[20  9 16]]\n"
          ]
        }
      ],
      "source": [
        "#Q5\n",
        "import numpy as np\n",
        "gfg=np.matrix('[4, 1, 9; 12, 3, 1; 4, 5, 6]')\n",
        "sum_of_elements=np.sum(gfg)\n",
        "print(\"total sum:\",sum_of_elements)\n",
        "row_sum=np.sum(gfg,axis=1)\n",
        "print(\"sum of row elemnts:\\n\",row_sum)\n",
        "col_sum=np.sum(gfg,axis=0)\n",
        "print(\"sum of column elemnts:\\n\",col_sum)"
      ]
    },
    {
      "cell_type": "code",
      "execution_count": null,
      "metadata": {
        "colab": {
          "base_uri": "https://localhost:8080/"
        },
        "id": "jHaspnTEwVNq",
        "outputId": "14a32dad-2ed0-46ff-de58-5781c5e65aba"
      },
      "outputs": [
        {
          "name": "stdout",
          "output_type": "stream",
          "text": [
            "Diagonal sum: 176\n"
          ]
        }
      ],
      "source": [
        "#Q6\n",
        "import numpy as np\n",
        "n_array = np.array([[55, 25, 15],[30, 44, 2],[11, 45, 77]])\n",
        "sum_diagonal=np.trace(n_array)\n",
        "print(\"Diagonal sum:\",sum_diagonal)\n"
      ]
    }
  ],
  "metadata": {
    "colab": {
      "provenance": []
    },
    "kernelspec": {
      "display_name": "Python 3",
      "name": "python3"
    },
    "language_info": {
      "name": "python"
    }
  },
  "nbformat": 4,
  "nbformat_minor": 0
}
